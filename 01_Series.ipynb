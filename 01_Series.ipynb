{
 "cells": [
  {
   "cell_type": "markdown",
   "metadata": {},
   "source": [
    "# Pandas Series\n",
    "\n",
    "\n",
    "Series = One single column of Tabular Data/ DataFrame"
   ]
  },
  {
   "cell_type": "code",
   "execution_count": 1,
   "metadata": {},
   "outputs": [],
   "source": [
    "import pandas as pd"
   ]
  },
  {
   "cell_type": "markdown",
   "metadata": {},
   "source": [
    "## Series  - I: Creating Series\n",
    "```\n",
    "1. Making list as series\n",
    "    a. Making list as series\n",
    "    b. Making series of specific value at index 0-5\n",
    "    c. Making series through list comprehension\n",
    "    \n",
    "2. Making dictionary as series\n",
    "```"
   ]
  },
  {
   "cell_type": "code",
   "execution_count": 2,
   "metadata": {},
   "outputs": [
    {
     "name": "stdout",
     "output_type": "stream",
     "text": [
      "0     2\n",
      "1    67\n",
      "2    34\n",
      "3    32\n",
      "dtype: int64 \n",
      "\n",
      "0    5\n",
      "1    5\n",
      "2    5\n",
      "3    5\n",
      "4    5\n",
      "dtype: int64 \n",
      "\n",
      "0     0\n",
      "1    10\n",
      "2    20\n",
      "3    30\n",
      "4    40\n",
      "dtype: int64\n",
      "John     555-555-5555\n",
      "Alice    123-236-5263\n",
      "Bob      963-852-1470\n",
      "dtype: object\n"
     ]
    }
   ],
   "source": [
    "# 1. Making List as seires\n",
    "## a. Making list as series\n",
    "lst = [2, 67, 34, 32]\n",
    "print(pd.Series(lst), \"\\n\")\n",
    "\n",
    "## b. Making series of specific value at index 0-5\n",
    "print(pd.Series(5, index=[0, 1 , 2, 3, 4]), \"\\n\")\n",
    "\n",
    "## c. Making series through list comprehension\n",
    "print(pd.Series([num*10 for num in range(5)]))\n",
    "\n",
    "# 2. Maknig dictionary as series\n",
    "myphonebook = {\"John\" : \"555-555-5555\",\n",
    "               \"Alice\" : \"123-236-5263\",\n",
    "               \"Bob\" : \"963-852-1470\"}\n",
    "print(pd.Series(myphonebook))"
   ]
  },
  {
   "cell_type": "markdown",
   "metadata": {},
   "source": [
    "## Series  - II: To Read .csv file."
   ]
  },
  {
   "cell_type": "code",
   "execution_count": 3,
   "metadata": {},
   "outputs": [
    {
     "name": "stdout",
     "output_type": "stream",
     "text": [
      "<class 'pandas.core.series.Series'>\n",
      "0     16.770000\n",
      "1     17.100000\n",
      "2     17.059999\n",
      "3     16.900000\n",
      "4     16.969999\n",
      "5     16.240000\n",
      "6     16.389999\n",
      "7     16.549999\n",
      "8     15.990000\n",
      "9     15.770000\n",
      "10    16.389999\n",
      "11    16.330000\n",
      "12    16.340000\n",
      "13    16.240000\n",
      "14    16.469999\n",
      "15    16.790001\n",
      "16    17.100000\n",
      "17    17.299999\n",
      "18    16.299999\n",
      "19    16.459999\n",
      "Name: Open, dtype: float64\n"
     ]
    }
   ],
   "source": [
    "# To Read .csv file.\n",
    "s = pd.read_csv('Stock.csv',\n",
    "            # header=None,       # To make it none header\n",
    "            squeeze=True,      # To make it Series object\n",
    "            usecols=['Open'],  # To choose specific column \n",
    "            #sep=\",\"            # To make separator\n",
    "               )\n",
    "print(type(s))\n",
    "print(s)"
   ]
  },
  {
   "cell_type": "markdown",
   "metadata": {},
   "source": [
    "## Series  - III: Series Attributes & Methods\n",
    "```\n",
    "1. Series Attributes & Methods\n",
    "    a. Properties\n",
    "    b. Value/Index of Min/Max\n",
    "    c. Statistical Routiens\n",
    " \n",
    "2. Starting/end values\n",
    "3. Postfix/prefix on index\n",
    "```"
   ]
  },
  {
   "cell_type": "code",
   "execution_count": 4,
   "metadata": {},
   "outputs": [
    {
     "name": "stdout",
     "output_type": "stream",
     "text": [
      "Index:  RangeIndex(start=0, stop=20, step=1)\n",
      "Values:  [16.77     17.1      17.059999 16.9      16.969999 16.24     16.389999\n",
      " 16.549999 15.99     15.77     16.389999 16.33     16.34     16.24\n",
      " 16.469999 16.790001 17.1      17.299999 16.299999 16.459999] \n",
      "\n",
      "dtype:  float64\n",
      "Ndim:  1\n",
      "Size:  20\n",
      "Shape:  False\n",
      "Monotonic deacrease:  False\n",
      "Shape:  (20,) \n",
      "\n",
      "Index of max value 'idxmax()':  17\n",
      "Max:  17.299999\n",
      "Index of min value 'idxmin()':  9\n",
      "Min:  15.77 \n",
      "\n",
      "Sum:  331.459992\n",
      "Mean:  16.572999600000003\n",
      "Product:  2.4295555370482454e+24\n",
      "Standard Devaition:  0.4076130110008758\n",
      "\n",
      "Describe:  count    20.000000\n",
      "mean     16.573000\n",
      "std       0.407613\n",
      "min      15.770000\n",
      "25%      16.322500\n",
      "50%      16.464999\n",
      "75%      16.917500\n",
      "max      17.299999\n",
      "Name: Open, dtype: float64 \n",
      "\n"
     ]
    }
   ],
   "source": [
    "# 1. Series Attributes & Methods\n",
    "## a. Properties\n",
    "print(\"Index: \", s.index)\n",
    "print(\"Values: \", s.values, '\\n')\n",
    "print(\"dtype: \", s.dtype)\n",
    "print(\"Ndim: \", s.ndim)\n",
    "print(\"Size: \", s.size)\n",
    "print(\"Shape: \", s.is_unique)\n",
    "print(\"Monotonic deacrease: \", s.is_monotonic_increasing)\n",
    "print(\"Shape: \", s.shape, '\\n')\n",
    "\n",
    "## b. Value/Index of Min/Max\n",
    "print(\"Index of max value 'idxmax()': \",s.idxmax())   # At which index max value occcur\n",
    "print(\"Max: \",max(s))\n",
    "print(\"Index of min value 'idxmin()': \", s.idxmin())   # At which index min value occcur\n",
    "print(\"Min: \", min(s), '\\n')\n",
    "\n",
    "## c. Statistical Routiens\n",
    "print(\"Sum: \" , s.sum())\n",
    "print(\"Mean: \" , s.mean())\n",
    "print(\"Product: \" , s.product())\n",
    "print(\"Standard Devaition: \" , s.std())\n",
    "print(\"\\nDescribe: \", s.describe(), '\\n')"
   ]
  },
  {
   "cell_type": "code",
   "execution_count": 5,
   "metadata": {},
   "outputs": [
    {
     "name": "stdout",
     "output_type": "stream",
     "text": [
      "0    16.770000\n",
      "1    17.100000\n",
      "2    17.059999\n",
      "3    16.900000\n",
      "4    16.969999\n",
      "Name: Open, dtype: float64 \n",
      "\n",
      "13    16.240000\n",
      "14    16.469999\n",
      "15    16.790001\n",
      "16    17.100000\n",
      "17    17.299999\n",
      "18    16.299999\n",
      "19    16.459999\n",
      "Name: Open, dtype: float64 \n",
      "\n"
     ]
    }
   ],
   "source": [
    "## 2. Starting/end values\n",
    "print(s.head(5), '\\n')   # Brand new series\n",
    "print(s.tail(7), '\\n')"
   ]
  },
  {
   "cell_type": "code",
   "execution_count": 6,
   "metadata": {},
   "outputs": [
    {
     "data": {
      "text/plain": [
       "0Postfix    16.770000\n",
       "1Postfix    17.100000\n",
       "2Postfix    17.059999\n",
       "3Postfix    16.900000\n",
       "4Postfix    16.969999\n",
       "Name: Open, dtype: float64"
      ]
     },
     "execution_count": 6,
     "metadata": {},
     "output_type": "execute_result"
    }
   ],
   "source": [
    "## 3. Postfix/prefix on index\n",
    "\n",
    "h = s.head(5)\n",
    "h.add_prefix('Prefix')\n",
    "h.add_suffix('Postfix')"
   ]
  },
  {
   "cell_type": "markdown",
   "metadata": {},
   "source": [
    "## Series  - IV: Label Indexing"
   ]
  },
  {
   "cell_type": "code",
   "execution_count": 7,
   "metadata": {},
   "outputs": [],
   "source": [
    "temperature = [30, 31, 32, 33, 34, 32,]\n",
    "months = [\"Jan\", \"Feb\", \"Mar\", \"Apr\", \"May\", \"Jun\"]"
   ]
  },
  {
   "cell_type": "code",
   "execution_count": 8,
   "metadata": {
    "scrolled": false
   },
   "outputs": [
    {
     "name": "stdout",
     "output_type": "stream",
     "text": [
      "Jan    30\n",
      "Feb    31\n",
      "Mar    32\n",
      "Apr    33\n",
      "May    34\n",
      "Jun    32\n",
      "dtype: int64 \n",
      "\n",
      "Jan    30\n",
      "Feb    31\n",
      "Mar    32\n",
      "Apr    33\n",
      "May    34\n",
      "Jun    32\n",
      "dtype: int64\n"
     ]
    }
   ],
   "source": [
    "print(pd.Series(data=temperature, index=months), '\\n')\n",
    "print(pd.Series(index=months, data=temperature))"
   ]
  },
  {
   "cell_type": "markdown",
   "metadata": {},
   "source": [
    "## Series  - V: sort_value(), sort_index() & Inplace parameter \n",
    "```\n",
    "1. sort_values()\n",
    "2. inplace parameter\n",
    "3. sort_index()\n",
    "```"
   ]
  },
  {
   "cell_type": "code",
   "execution_count": 9,
   "metadata": {},
   "outputs": [
    {
     "data": {
      "text/plain": [
       "Jan    30\n",
       "Feb    31\n",
       "Mar    32\n",
       "Apr    33\n",
       "May    34\n",
       "Jun    32\n",
       "dtype: int64"
      ]
     },
     "execution_count": 9,
     "metadata": {},
     "output_type": "execute_result"
    }
   ],
   "source": [
    "temperature = [30, 31, 32, 33, 34, 32,]\n",
    "months = [\"Jan\", \"Feb\", \"Mar\", \"Apr\", \"May\", \"Jun\"]\n",
    "s1 = pd.Series(temperature, months)\n",
    "s1"
   ]
  },
  {
   "cell_type": "code",
   "execution_count": 10,
   "metadata": {},
   "outputs": [
    {
     "name": "stdout",
     "output_type": "stream",
     "text": [
      "Jan    30\n",
      "Feb    31\n",
      "Mar    32\n",
      "Jun    32\n",
      "Apr    33\n",
      "May    34\n",
      "dtype: int64 \n",
      "\n",
      "May    34\n",
      "Apr    33\n",
      "Jun    32\n",
      "Mar    32\n",
      "Feb    31\n",
      "Jan    30\n",
      "dtype: int64\n"
     ]
    }
   ],
   "source": [
    "# 1. sort_values()\n",
    "print(s1.sort_values(), '\\n')  # no permenent change\n",
    "print(s1.sort_values(ascending=False))  # no permenent change, descending order"
   ]
  },
  {
   "cell_type": "code",
   "execution_count": 11,
   "metadata": {},
   "outputs": [
    {
     "name": "stdout",
     "output_type": "stream",
     "text": [
      "Jan    30\n",
      "Feb    31\n",
      "Mar    32\n",
      "Apr    33\n",
      "May    34\n",
      "Jun    32\n",
      "dtype: int64 \n",
      "\n",
      "Jan    30\n",
      "Feb    31\n",
      "Mar    32\n",
      "Jun    32\n",
      "Apr    33\n",
      "May    34\n",
      "dtype: int64 \n",
      "\n"
     ]
    }
   ],
   "source": [
    "# 2. inplace parameter\n",
    "s1.sort_values()\n",
    "print(s1, '\\n')\n",
    "s1.sort_values(inplace=True)  # permanent modification\n",
    "print(s1, '\\n')"
   ]
  },
  {
   "cell_type": "code",
   "execution_count": 12,
   "metadata": {},
   "outputs": [
    {
     "name": "stdout",
     "output_type": "stream",
     "text": [
      "Jan    30\n",
      "Feb    31\n",
      "Mar    32\n",
      "Jun    32\n",
      "Apr    33\n",
      "May    34\n",
      "dtype: int64\n",
      "Apr    33\n",
      "Feb    31\n",
      "Jan    30\n",
      "Jun    32\n",
      "Mar    32\n",
      "May    34\n",
      "dtype: int64\n"
     ]
    }
   ],
   "source": [
    "# 3. sort_index()\n",
    "s1.sort_index() # permanent change\n",
    "print(s1)\n",
    "\n",
    "s1.sort_index(inplace=True) # permanent change\n",
    "print(s1)"
   ]
  },
  {
   "cell_type": "code",
   "execution_count": 13,
   "metadata": {},
   "outputs": [
    {
     "data": {
      "text/plain": [
       "Apr    33\n",
       "Feb    31\n",
       "Jan    30\n",
       "Jun    32\n",
       "Mar    32\n",
       "May    34\n",
       "dtype: int64"
      ]
     },
     "execution_count": 13,
     "metadata": {},
     "output_type": "execute_result"
    }
   ],
   "source": [
    "s1.sort_index(inplace=True) # permanent change\n",
    "s1"
   ]
  },
  {
   "cell_type": "markdown",
   "metadata": {},
   "source": [
    "##  Series  - VI: Apply Python built in Function on Series"
   ]
  },
  {
   "cell_type": "code",
   "execution_count": 14,
   "metadata": {},
   "outputs": [
    {
     "data": {
      "text/plain": [
       "Jan    30\n",
       "Feb    31\n",
       "Mar    32\n",
       "Apr    33\n",
       "May    34\n",
       "Jun    32\n",
       "dtype: int64"
      ]
     },
     "execution_count": 14,
     "metadata": {},
     "output_type": "execute_result"
    }
   ],
   "source": [
    "temperature = [30, 31, 32, 33, 34, 32,]\n",
    "months = [\"Jan\", \"Feb\", \"Mar\", \"Apr\", \"May\", \"Jun\"]\n",
    "s1 = pd.Series(temperature, months)\n",
    "s1"
   ]
  },
  {
   "cell_type": "code",
   "execution_count": 15,
   "metadata": {},
   "outputs": [
    {
     "name": "stdout",
     "output_type": "stream",
     "text": [
      "6\n",
      "<class 'pandas.core.series.Series'>\n",
      "[30, 31, 32, 33, 34, 32]\n",
      "{'Jan': 30, 'Feb': 31, 'Mar': 32, 'Apr': 33, 'May': 34, 'Jun': 32}\n",
      "[30, 31, 32, 32, 33, 34]\n",
      "34\n",
      "30\n",
      "34\n"
     ]
    }
   ],
   "source": [
    "# Built-in function\n",
    "print(len(s1))\n",
    "print(type(s1))\n",
    "print(list(s1))\n",
    "print(dict(s1))\n",
    "print(sorted(s1))  # Just sort here not in heap)\n",
    "print(max(s1))\n",
    "print(min(s1))\n",
    "print(sorted(s1)[-1])"
   ]
  },
  {
   "cell_type": "markdown",
   "metadata": {},
   "source": [
    "##  Series  - VII: Extract Value from Series"
   ]
  },
  {
   "cell_type": "code",
   "execution_count": 16,
   "metadata": {},
   "outputs": [
    {
     "data": {
      "text/plain": [
       "Jan    30\n",
       "Feb    31\n",
       "Mar    32\n",
       "Apr    33\n",
       "May    34\n",
       "Jun    32\n",
       "dtype: int64"
      ]
     },
     "execution_count": 16,
     "metadata": {},
     "output_type": "execute_result"
    }
   ],
   "source": [
    "temperature = [30, 31, 32, 33, 34, 32,]\n",
    "months = [\"Jan\", \"Feb\", \"Mar\", \"Apr\", \"May\", \"Jun\"]\n",
    "s1 = pd.Series(temperature, months)\n",
    "s1"
   ]
  },
  {
   "cell_type": "code",
   "execution_count": 17,
   "metadata": {},
   "outputs": [
    {
     "name": "stdout",
     "output_type": "stream",
     "text": [
      "30 \n",
      "\n",
      "Mar    32\n",
      "Apr    33\n",
      "May    34\n",
      "Jun    32\n",
      "dtype: int64 \n",
      "\n",
      "Apr    33\n",
      "Jun    32\n",
      "Feb    31\n",
      "dtype: int64 \n",
      "\n",
      "32 \n",
      "\n",
      "Jan    30\n",
      "Feb    31\n",
      "Mar    32\n",
      "dtype: int64 \n",
      "\n"
     ]
    }
   ],
   "source": [
    "# Extract values from pandas series\n",
    "print(s1[0], \"\\n\")\n",
    "print(s1[2:9], \"\\n\")\n",
    "print(s1[[3,5,1]], \"\\n\")\n",
    "print(s1[-1], \"\\n\")\n",
    "print(s1[['Jan','Feb','Mar']], \"\\n\")"
   ]
  },
  {
   "cell_type": "markdown",
   "metadata": {},
   "source": [
    "##  Series  - VIII: .value_counts() Method\n",
    "```\n",
    "1. nuniques()\n",
    "2. values_counts()\n",
    "```"
   ]
  },
  {
   "cell_type": "code",
   "execution_count": 18,
   "metadata": {},
   "outputs": [
    {
     "data": {
      "text/plain": [
       "0       Male\n",
       "1     Female\n",
       "2       Male\n",
       "3     Female\n",
       "4     Female\n",
       "5     Female\n",
       "6       Male\n",
       "7     Female\n",
       "8       Male\n",
       "9     Female\n",
       "10      Male\n",
       "11    Female\n",
       "dtype: object"
      ]
     },
     "execution_count": 18,
     "metadata": {},
     "output_type": "execute_result"
    }
   ],
   "source": [
    "s1 = pd.Series(['Male', 'Female','Male','Female', 'Female', 'Female','Male','Female','Male','Female','Male','Female'])\n",
    "s1"
   ]
  },
  {
   "cell_type": "code",
   "execution_count": 19,
   "metadata": {},
   "outputs": [
    {
     "name": "stdout",
     "output_type": "stream",
     "text": [
      "2\n",
      "Female    7\n",
      "Male      5\n",
      "dtype: int64\n"
     ]
    }
   ],
   "source": [
    "# 1. nuniques()\n",
    "# 2. values_counts()\n",
    "print(s1.nunique())\n",
    "print(s1.value_counts())"
   ]
  },
  {
   "cell_type": "markdown",
   "metadata": {},
   "source": [
    "##  Series  - IX: .apply() and .map() method\n",
    "```\n",
    "1. .apply()\n",
    "2. .map()\n",
    "```"
   ]
  },
  {
   "cell_type": "code",
   "execution_count": 20,
   "metadata": {},
   "outputs": [
    {
     "data": {
      "text/plain": [
       "Jan    30\n",
       "Feb    31\n",
       "Mar    32\n",
       "Apr    33\n",
       "May    34\n",
       "Jun    32\n",
       "dtype: int64"
      ]
     },
     "execution_count": 20,
     "metadata": {},
     "output_type": "execute_result"
    }
   ],
   "source": [
    "temperature = [30, 31, 32, 33, 34, 32,]\n",
    "months = [\"Jan\", \"Feb\", \"Mar\", \"Apr\", \"May\", \"Jun\"]\n",
    "s1 = pd.Series(temperature, months)\n",
    "s1   # temp in centigrade"
   ]
  },
  {
   "cell_type": "code",
   "execution_count": 21,
   "metadata": {},
   "outputs": [
    {
     "name": "stdout",
     "output_type": "stream",
     "text": [
      "Jan    86.0\n",
      "Feb    87.8\n",
      "Mar    89.6\n",
      "Apr    91.4\n",
      "May    93.2\n",
      "Jun    89.6\n",
      "dtype: float64 \n",
      "\n",
      "Jan    30\n",
      "Feb    31\n",
      "Mar    32\n",
      "Apr    33\n",
      "May    34\n",
      "Jun    32\n",
      "dtype: int64\n"
     ]
    }
   ],
   "source": [
    "# 1. apply() \n",
    "def convertTemp(C):\n",
    "    '''Converting centigrade to fahrenhiet'''\n",
    "    return ((C * 1.8) + 32)\n",
    "\n",
    "print(s1.apply(convertTemp), '\\n') # Converting temp into Fahrenhiet of every single element\n",
    "print(s1)"
   ]
  },
  {
   "cell_type": "code",
   "execution_count": 22,
   "metadata": {},
   "outputs": [
    {
     "name": "stdout",
     "output_type": "stream",
     "text": [
      "Jan    30\n",
      "Feb    31\n",
      "Mar    32\n",
      "Apr    33\n",
      "May    34\n",
      "Jun    32\n",
      "dtype: int64\n"
     ]
    }
   ],
   "source": [
    "# 2. .map()\n",
    "mapobj = {30 : 300, 31 : 310, 32 : 40, 34 : 100}\n",
    "\n",
    "s1.map(mapobj)    # maping with org values\n",
    "print(s1)"
   ]
  },
  {
   "cell_type": "code",
   "execution_count": null,
   "metadata": {},
   "outputs": [],
   "source": []
  }
 ],
 "metadata": {
  "kernelspec": {
   "display_name": "Python 3",
   "language": "python",
   "name": "python3"
  },
  "language_info": {
   "codemirror_mode": {
    "name": "ipython",
    "version": 3
   },
   "file_extension": ".py",
   "mimetype": "text/x-python",
   "name": "python",
   "nbconvert_exporter": "python",
   "pygments_lexer": "ipython3",
   "version": "3.7.4"
  }
 },
 "nbformat": 4,
 "nbformat_minor": 2
}
